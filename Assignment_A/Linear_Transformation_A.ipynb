{
 "cells": [
  {
   "cell_type": "markdown",
   "id": "883d8bae-a889-4a4c-a8d0-99be2b011119",
   "metadata": {},
   "source": [
    "## Linear Transformation Assignment\n",
    "\n",
    "##### Justin ALain B. Monreal\n"
   ]
  },
  {
   "cell_type": "markdown",
   "id": "a01eae2a",
   "metadata": {},
   "source": [
    "Instructions:<br>\n",
    "\n",
    "1. Develop a python function from scratch that will find the determinants of any $n \\times n$ matrix.\n",
    "\n",
    "2. Develop a python function from scratch that will find both the eigenvectors and eigenvalues of any $n \\times n$ matrix.\n",
    "\n",
    "3. Test your functions from a randomly generated $n \\times n$ matrix.\n"
   ]
  },
  {
   "cell_type": "code",
   "execution_count": 6,
   "id": "740dfec8",
   "metadata": {},
   "outputs": [
    {
     "ename": "ModuleNotFoundError",
     "evalue": "No module named 'numpy'",
     "output_type": "error",
     "traceback": [
      "\u001b[1;31m---------------------------------------------------------------------------\u001b[0m",
      "\u001b[1;31mModuleNotFoundError\u001b[0m                       Traceback (most recent call last)",
      "Cell \u001b[1;32mIn[6], line 1\u001b[0m\n\u001b[1;32m----> 1\u001b[0m \u001b[38;5;28;01mimport\u001b[39;00m \u001b[38;5;21;01mnumpy\u001b[39;00m \u001b[38;5;28;01mas\u001b[39;00m \u001b[38;5;21;01mnp\u001b[39;00m\n\u001b[0;32m      3\u001b[0m \u001b[38;5;28;01mdef\u001b[39;00m \u001b[38;5;21mdeterminant\u001b[39m(matrix):\n\u001b[0;32m      4\u001b[0m     \u001b[38;5;28;01mif\u001b[39;00m \u001b[38;5;28mlen\u001b[39m(matrix) \u001b[38;5;241m!=\u001b[39m \u001b[38;5;28mlen\u001b[39m(matrix[\u001b[38;5;241m0\u001b[39m]):\n",
      "\u001b[1;31mModuleNotFoundError\u001b[0m: No module named 'numpy'"
     ]
    }
   ],
   "source": [
    "import numpy as np\n",
    "\n",
    "def determinant(matrix):\n",
    "    if len(matrix) != len(matrix[0]):\n",
    "        raise ValueError('The matrix is not square')\n",
    "    if len(matrix) == 2:\n",
    "        return matrix[0][0]*matrix[1][1] - matrix[0][1]*matrix[1][0]\n",
    "    else:\n",
    "        det = 0\n",
    "        for i in range(len(matrix)):\n",
    "            submatrix = []\n",
    "            for j in range(1, len(matrix)):\n",
    "                subrow = []\n",
    "                for k in range(len(matrix)):\n",
    "                    if k != i:\n",
    "                        subrow.append(matrix[j][k])\n",
    "                submatrix.append(subrow)\n",
    "            det += (-1)**i * matrix[0][i] * determinant(submatrix)\n",
    "        return det\n",
    "\n",
    "def eigen(matrix):\n",
    "    if len(matrix) != len(matrix[0]):\n",
    "        raise ValueError('The matrix is not square')\n",
    "    if len(matrix) == 2:\n",
    "        eigenvalues = []\n",
    "        eigenvalues.append((matrix[0][0] + matrix[1][1] + np.sqrt((matrix[0][0] + matrix[1][1])\n",
    "                           ** 2 - 4*(matrix[0][0]*matrix[1][1] - matrix[0][1]*matrix[1][0])))/2)\n",
    "        eigenvalues.append((matrix[0][0] + matrix[1][1] - np.sqrt((matrix[0][0] + matrix[1][1])\n",
    "                           ** 2 - 4*(matrix[0][0]*matrix[1][1] - matrix[0][1]*matrix[1][0])))/2)\n",
    "        eigenvectors = []\n",
    "        eigenvectors.append([matrix[0][1], eigenvalues[0] - matrix[0][0]])\n",
    "        eigenvectors.append([matrix[0][1], eigenvalues[1] - matrix[0][0]])\n",
    "        return eigenvalues, eigenvectors\n",
    "\n",
    "    else:\n",
    "        eigenvalues = []\n",
    "\n",
    "        eigenvalues.append((matrix[0][0] + matrix[1][1] + np.sqrt((matrix[0][0] + matrix[1][1])\n",
    "                           ** 2 - 4*(matrix[0][0]*matrix[1][1] - matrix[0][1]*matrix[1][0])))/2)\n",
    "        eigenvalues.append((matrix[0][0] + matrix[1][1] - np.sqrt((matrix[0][0] + matrix[1][1])\n",
    "                           ** 2 - 4*(matrix[0][0]*matrix[1][1] - matrix[0][1]*matrix[1][0])))/2)\n",
    "        eigenvectors = []\n",
    "        eigenvectors.append([matrix[0][1], eigenvalues[0] - matrix[0][0]])\n",
    "        eigenvectors.append([matrix[0][1], eigenvalues[1] - matrix[0][0]])\n",
    "\n",
    "        return eigenvalues, eigenvectors\n",
    "\n",
    "def test():\n",
    "    n = 2\n",
    "    matrix = np.random.rand(n, n)\n",
    "\n",
    "    print('Matrix:')\n",
    "    print(matrix)\n",
    "\n",
    "    print('Determinant:')\n",
    "    print(determinant(matrix))\n",
    "\n",
    "    print('Eigenvalues and eigenvectors:')\n",
    "    print(eigen(matrix))\n",
    "\n",
    "\n",
    "# 4. Test function\n",
    "test()"
   ]
  },
  {
   "cell_type": "code",
   "execution_count": null,
   "id": "105f2e9d-2b9d-46dd-896f-8338e97ba4f3",
   "metadata": {},
   "outputs": [],
   "source": []
  }
 ],
 "metadata": {
  "kernelspec": {
   "display_name": "Python 3 (ipykernel)",
   "language": "python",
   "name": "python3"
  },
  "language_info": {
   "codemirror_mode": {
    "name": "ipython",
    "version": 3
   },
   "file_extension": ".py",
   "mimetype": "text/x-python",
   "name": "python",
   "nbconvert_exporter": "python",
   "pygments_lexer": "ipython3",
   "version": "3.12.0"
  }
 },
 "nbformat": 4,
 "nbformat_minor": 5
}
